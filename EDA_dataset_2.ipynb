{
 "cells": [
  {
   "cell_type": "code",
   "execution_count": 1,
   "id": "67c29d33-9a75-47b9-89af-e150d4ef0a37",
   "metadata": {},
   "outputs": [],
   "source": [
    "import pandas as pd\n"
   ]
  },
  {
   "cell_type": "code",
   "execution_count": 3,
   "id": "27c1eaaa-342a-401c-b7e0-7a601dfdb60b",
   "metadata": {},
   "outputs": [
    {
     "data": {
      "text/html": [
       "<div>\n",
       "<style scoped>\n",
       "    .dataframe tbody tr th:only-of-type {\n",
       "        vertical-align: middle;\n",
       "    }\n",
       "\n",
       "    .dataframe tbody tr th {\n",
       "        vertical-align: top;\n",
       "    }\n",
       "\n",
       "    .dataframe thead th {\n",
       "        text-align: right;\n",
       "    }\n",
       "</style>\n",
       "<table border=\"1\" class=\"dataframe\">\n",
       "  <thead>\n",
       "    <tr style=\"text-align: right;\">\n",
       "      <th></th>\n",
       "      <th>Unnamed: 0.1</th>\n",
       "      <th>Unnamed: 0</th>\n",
       "      <th>User</th>\n",
       "      <th>Card</th>\n",
       "      <th>Year</th>\n",
       "      <th>Month</th>\n",
       "      <th>Day</th>\n",
       "      <th>Time</th>\n",
       "      <th>Amount</th>\n",
       "      <th>Use Chip</th>\n",
       "      <th>...</th>\n",
       "      <th>user_City</th>\n",
       "      <th>user_State</th>\n",
       "      <th>user_Zipcode</th>\n",
       "      <th>user_Latitude</th>\n",
       "      <th>user_Longitude</th>\n",
       "      <th>Per Capita Income - Zipcode</th>\n",
       "      <th>Yearly Income - Person</th>\n",
       "      <th>Total Debt</th>\n",
       "      <th>FICO Score</th>\n",
       "      <th>Num Credit Cards</th>\n",
       "    </tr>\n",
       "  </thead>\n",
       "  <tbody>\n",
       "    <tr>\n",
       "      <th>0</th>\n",
       "      <td>0</td>\n",
       "      <td>0</td>\n",
       "      <td>0</td>\n",
       "      <td>0</td>\n",
       "      <td>2002.0</td>\n",
       "      <td>9.0</td>\n",
       "      <td>1.0</td>\n",
       "      <td>06:21</td>\n",
       "      <td>134.09</td>\n",
       "      <td>Swipe Transaction</td>\n",
       "      <td>...</td>\n",
       "      <td>La Verne</td>\n",
       "      <td>CA</td>\n",
       "      <td>91750</td>\n",
       "      <td>34.15</td>\n",
       "      <td>-117.76</td>\n",
       "      <td>29278</td>\n",
       "      <td>59696</td>\n",
       "      <td>127613</td>\n",
       "      <td>787</td>\n",
       "      <td>5</td>\n",
       "    </tr>\n",
       "    <tr>\n",
       "      <th>1</th>\n",
       "      <td>1</td>\n",
       "      <td>1</td>\n",
       "      <td>0</td>\n",
       "      <td>0</td>\n",
       "      <td>2002.0</td>\n",
       "      <td>9.0</td>\n",
       "      <td>1.0</td>\n",
       "      <td>06:42</td>\n",
       "      <td>38.48</td>\n",
       "      <td>Swipe Transaction</td>\n",
       "      <td>...</td>\n",
       "      <td>La Verne</td>\n",
       "      <td>CA</td>\n",
       "      <td>91750</td>\n",
       "      <td>34.15</td>\n",
       "      <td>-117.76</td>\n",
       "      <td>29278</td>\n",
       "      <td>59696</td>\n",
       "      <td>127613</td>\n",
       "      <td>787</td>\n",
       "      <td>5</td>\n",
       "    </tr>\n",
       "    <tr>\n",
       "      <th>2</th>\n",
       "      <td>2</td>\n",
       "      <td>2</td>\n",
       "      <td>0</td>\n",
       "      <td>0</td>\n",
       "      <td>2002.0</td>\n",
       "      <td>9.0</td>\n",
       "      <td>2.0</td>\n",
       "      <td>06:22</td>\n",
       "      <td>120.34</td>\n",
       "      <td>Swipe Transaction</td>\n",
       "      <td>...</td>\n",
       "      <td>La Verne</td>\n",
       "      <td>CA</td>\n",
       "      <td>91750</td>\n",
       "      <td>34.15</td>\n",
       "      <td>-117.76</td>\n",
       "      <td>29278</td>\n",
       "      <td>59696</td>\n",
       "      <td>127613</td>\n",
       "      <td>787</td>\n",
       "      <td>5</td>\n",
       "    </tr>\n",
       "    <tr>\n",
       "      <th>3</th>\n",
       "      <td>3</td>\n",
       "      <td>3</td>\n",
       "      <td>0</td>\n",
       "      <td>0</td>\n",
       "      <td>2002.0</td>\n",
       "      <td>9.0</td>\n",
       "      <td>2.0</td>\n",
       "      <td>17:45</td>\n",
       "      <td>128.95</td>\n",
       "      <td>Swipe Transaction</td>\n",
       "      <td>...</td>\n",
       "      <td>La Verne</td>\n",
       "      <td>CA</td>\n",
       "      <td>91750</td>\n",
       "      <td>34.15</td>\n",
       "      <td>-117.76</td>\n",
       "      <td>29278</td>\n",
       "      <td>59696</td>\n",
       "      <td>127613</td>\n",
       "      <td>787</td>\n",
       "      <td>5</td>\n",
       "    </tr>\n",
       "    <tr>\n",
       "      <th>4</th>\n",
       "      <td>4</td>\n",
       "      <td>4</td>\n",
       "      <td>0</td>\n",
       "      <td>0</td>\n",
       "      <td>2002.0</td>\n",
       "      <td>9.0</td>\n",
       "      <td>3.0</td>\n",
       "      <td>06:23</td>\n",
       "      <td>104.71</td>\n",
       "      <td>Swipe Transaction</td>\n",
       "      <td>...</td>\n",
       "      <td>La Verne</td>\n",
       "      <td>CA</td>\n",
       "      <td>91750</td>\n",
       "      <td>34.15</td>\n",
       "      <td>-117.76</td>\n",
       "      <td>29278</td>\n",
       "      <td>59696</td>\n",
       "      <td>127613</td>\n",
       "      <td>787</td>\n",
       "      <td>5</td>\n",
       "    </tr>\n",
       "    <tr>\n",
       "      <th>...</th>\n",
       "      <td>...</td>\n",
       "      <td>...</td>\n",
       "      <td>...</td>\n",
       "      <td>...</td>\n",
       "      <td>...</td>\n",
       "      <td>...</td>\n",
       "      <td>...</td>\n",
       "      <td>...</td>\n",
       "      <td>...</td>\n",
       "      <td>...</td>\n",
       "      <td>...</td>\n",
       "      <td>...</td>\n",
       "      <td>...</td>\n",
       "      <td>...</td>\n",
       "      <td>...</td>\n",
       "      <td>...</td>\n",
       "      <td>...</td>\n",
       "      <td>...</td>\n",
       "      <td>...</td>\n",
       "      <td>...</td>\n",
       "      <td>...</td>\n",
       "    </tr>\n",
       "    <tr>\n",
       "      <th>899995</th>\n",
       "      <td>899995</td>\n",
       "      <td>899995</td>\n",
       "      <td>66</td>\n",
       "      <td>0</td>\n",
       "      <td>2010.0</td>\n",
       "      <td>7.0</td>\n",
       "      <td>16.0</td>\n",
       "      <td>14:56</td>\n",
       "      <td>51.70</td>\n",
       "      <td>Online Transaction</td>\n",
       "      <td>...</td>\n",
       "      <td>Gonzales</td>\n",
       "      <td>TX</td>\n",
       "      <td>78629</td>\n",
       "      <td>29.50</td>\n",
       "      <td>-97.44</td>\n",
       "      <td>15092</td>\n",
       "      <td>10869</td>\n",
       "      <td>1820</td>\n",
       "      <td>820</td>\n",
       "      <td>2</td>\n",
       "    </tr>\n",
       "    <tr>\n",
       "      <th>899996</th>\n",
       "      <td>899996</td>\n",
       "      <td>899996</td>\n",
       "      <td>66</td>\n",
       "      <td>0</td>\n",
       "      <td>2010.0</td>\n",
       "      <td>7.0</td>\n",
       "      <td>16.0</td>\n",
       "      <td>15:27</td>\n",
       "      <td>23.10</td>\n",
       "      <td>Swipe Transaction</td>\n",
       "      <td>...</td>\n",
       "      <td>Gonzales</td>\n",
       "      <td>TX</td>\n",
       "      <td>78629</td>\n",
       "      <td>29.50</td>\n",
       "      <td>-97.44</td>\n",
       "      <td>15092</td>\n",
       "      <td>10869</td>\n",
       "      <td>1820</td>\n",
       "      <td>820</td>\n",
       "      <td>2</td>\n",
       "    </tr>\n",
       "    <tr>\n",
       "      <th>899997</th>\n",
       "      <td>899997</td>\n",
       "      <td>899997</td>\n",
       "      <td>66</td>\n",
       "      <td>0</td>\n",
       "      <td>2010.0</td>\n",
       "      <td>7.0</td>\n",
       "      <td>16.0</td>\n",
       "      <td>16:24</td>\n",
       "      <td>19.55</td>\n",
       "      <td>Swipe Transaction</td>\n",
       "      <td>...</td>\n",
       "      <td>Gonzales</td>\n",
       "      <td>TX</td>\n",
       "      <td>78629</td>\n",
       "      <td>29.50</td>\n",
       "      <td>-97.44</td>\n",
       "      <td>15092</td>\n",
       "      <td>10869</td>\n",
       "      <td>1820</td>\n",
       "      <td>820</td>\n",
       "      <td>2</td>\n",
       "    </tr>\n",
       "    <tr>\n",
       "      <th>899998</th>\n",
       "      <td>899998</td>\n",
       "      <td>899998</td>\n",
       "      <td>66</td>\n",
       "      <td>0</td>\n",
       "      <td>2010.0</td>\n",
       "      <td>7.0</td>\n",
       "      <td>17.0</td>\n",
       "      <td>07:36</td>\n",
       "      <td>42.32</td>\n",
       "      <td>Online Transaction</td>\n",
       "      <td>...</td>\n",
       "      <td>Gonzales</td>\n",
       "      <td>TX</td>\n",
       "      <td>78629</td>\n",
       "      <td>29.50</td>\n",
       "      <td>-97.44</td>\n",
       "      <td>15092</td>\n",
       "      <td>10869</td>\n",
       "      <td>1820</td>\n",
       "      <td>820</td>\n",
       "      <td>2</td>\n",
       "    </tr>\n",
       "    <tr>\n",
       "      <th>899999</th>\n",
       "      <td>899999</td>\n",
       "      <td>899999</td>\n",
       "      <td>66</td>\n",
       "      <td>0</td>\n",
       "      <td>2010.0</td>\n",
       "      <td>7.0</td>\n",
       "      <td>17.0</td>\n",
       "      <td>14:40</td>\n",
       "      <td>49.93</td>\n",
       "      <td>Online Transaction</td>\n",
       "      <td>...</td>\n",
       "      <td>Gonzales</td>\n",
       "      <td>TX</td>\n",
       "      <td>78629</td>\n",
       "      <td>29.50</td>\n",
       "      <td>-97.44</td>\n",
       "      <td>15092</td>\n",
       "      <td>10869</td>\n",
       "      <td>1820</td>\n",
       "      <td>820</td>\n",
       "      <td>2</td>\n",
       "    </tr>\n",
       "  </tbody>\n",
       "</table>\n",
       "<p>900000 rows × 45 columns</p>\n",
       "</div>"
      ],
      "text/plain": [
       "        Unnamed: 0.1  Unnamed: 0  User  Card    Year  Month   Day   Time  \\\n",
       "0                  0           0     0     0  2002.0    9.0   1.0  06:21   \n",
       "1                  1           1     0     0  2002.0    9.0   1.0  06:42   \n",
       "2                  2           2     0     0  2002.0    9.0   2.0  06:22   \n",
       "3                  3           3     0     0  2002.0    9.0   2.0  17:45   \n",
       "4                  4           4     0     0  2002.0    9.0   3.0  06:23   \n",
       "...              ...         ...   ...   ...     ...    ...   ...    ...   \n",
       "899995        899995      899995    66     0  2010.0    7.0  16.0  14:56   \n",
       "899996        899996      899996    66     0  2010.0    7.0  16.0  15:27   \n",
       "899997        899997      899997    66     0  2010.0    7.0  16.0  16:24   \n",
       "899998        899998      899998    66     0  2010.0    7.0  17.0  07:36   \n",
       "899999        899999      899999    66     0  2010.0    7.0  17.0  14:40   \n",
       "\n",
       "        Amount            Use Chip  ...  user_City user_State user_Zipcode  \\\n",
       "0       134.09   Swipe Transaction  ...   La Verne         CA        91750   \n",
       "1        38.48   Swipe Transaction  ...   La Verne         CA        91750   \n",
       "2       120.34   Swipe Transaction  ...   La Verne         CA        91750   \n",
       "3       128.95   Swipe Transaction  ...   La Verne         CA        91750   \n",
       "4       104.71   Swipe Transaction  ...   La Verne         CA        91750   \n",
       "...        ...                 ...  ...        ...        ...          ...   \n",
       "899995   51.70  Online Transaction  ...   Gonzales         TX        78629   \n",
       "899996   23.10   Swipe Transaction  ...   Gonzales         TX        78629   \n",
       "899997   19.55   Swipe Transaction  ...   Gonzales         TX        78629   \n",
       "899998   42.32  Online Transaction  ...   Gonzales         TX        78629   \n",
       "899999   49.93  Online Transaction  ...   Gonzales         TX        78629   \n",
       "\n",
       "        user_Latitude  user_Longitude Per Capita Income - Zipcode  \\\n",
       "0               34.15         -117.76                       29278   \n",
       "1               34.15         -117.76                       29278   \n",
       "2               34.15         -117.76                       29278   \n",
       "3               34.15         -117.76                       29278   \n",
       "4               34.15         -117.76                       29278   \n",
       "...               ...             ...                         ...   \n",
       "899995          29.50          -97.44                       15092   \n",
       "899996          29.50          -97.44                       15092   \n",
       "899997          29.50          -97.44                       15092   \n",
       "899998          29.50          -97.44                       15092   \n",
       "899999          29.50          -97.44                       15092   \n",
       "\n",
       "       Yearly Income - Person Total Debt FICO Score  Num Credit Cards  \n",
       "0                       59696     127613        787                 5  \n",
       "1                       59696     127613        787                 5  \n",
       "2                       59696     127613        787                 5  \n",
       "3                       59696     127613        787                 5  \n",
       "4                       59696     127613        787                 5  \n",
       "...                       ...        ...        ...               ...  \n",
       "899995                  10869       1820        820                 2  \n",
       "899996                  10869       1820        820                 2  \n",
       "899997                  10869       1820        820                 2  \n",
       "899998                  10869       1820        820                 2  \n",
       "899999                  10869       1820        820                 2  \n",
       "\n",
       "[900000 rows x 45 columns]"
      ]
     },
     "execution_count": 3,
     "metadata": {},
     "output_type": "execute_result"
    }
   ],
   "source": [
    "df=pd.read_csv('Dataset/credit_debit_preprocessed_transactions/credit_debit_preprocessed_transactions.csv')\n",
    "df"
   ]
  },
  {
   "cell_type": "code",
   "execution_count": 6,
   "id": "9c70e04d-9001-429e-b959-cb701213b03f",
   "metadata": {},
   "outputs": [],
   "source": [
    "df.drop('Unnamed: 0.1', axis=1, inplace=True)"
   ]
  },
  {
   "cell_type": "code",
   "execution_count": 7,
   "id": "7ebb21a9-5321-4e5a-9b3c-5be0193f5442",
   "metadata": {},
   "outputs": [],
   "source": [
    "df.drop('Unnamed: 0', axis=1, inplace=True)"
   ]
  },
  {
   "cell_type": "code",
   "execution_count": 61,
   "id": "fc81ca7c-6d38-4cab-a42d-8a2f77e79bc4",
   "metadata": {},
   "outputs": [
    {
     "ename": "KeyError",
     "evalue": "\"['Expires'] not found in axis\"",
     "output_type": "error",
     "traceback": [
      "\u001b[1;31m---------------------------------------------------------------------------\u001b[0m",
      "\u001b[1;31mKeyError\u001b[0m                                  Traceback (most recent call last)",
      "Cell \u001b[1;32mIn[61], line 1\u001b[0m\n\u001b[1;32m----> 1\u001b[0m df\u001b[38;5;241m.\u001b[39mdrop(\u001b[38;5;124m'\u001b[39m\u001b[38;5;124mExpires\u001b[39m\u001b[38;5;124m'\u001b[39m, axis\u001b[38;5;241m=\u001b[39m\u001b[38;5;241m1\u001b[39m, inplace\u001b[38;5;241m=\u001b[39m\u001b[38;5;28;01mTrue\u001b[39;00m)\n",
      "File \u001b[1;32mC:\\Program Files\\Anaconda3\\Lib\\site-packages\\pandas\\core\\frame.py:5344\u001b[0m, in \u001b[0;36mDataFrame.drop\u001b[1;34m(self, labels, axis, index, columns, level, inplace, errors)\u001b[0m\n\u001b[0;32m   5196\u001b[0m \u001b[38;5;28;01mdef\u001b[39;00m \u001b[38;5;21mdrop\u001b[39m(\n\u001b[0;32m   5197\u001b[0m     \u001b[38;5;28mself\u001b[39m,\n\u001b[0;32m   5198\u001b[0m     labels: IndexLabel \u001b[38;5;241m|\u001b[39m \u001b[38;5;28;01mNone\u001b[39;00m \u001b[38;5;241m=\u001b[39m \u001b[38;5;28;01mNone\u001b[39;00m,\n\u001b[1;32m   (...)\u001b[0m\n\u001b[0;32m   5205\u001b[0m     errors: IgnoreRaise \u001b[38;5;241m=\u001b[39m \u001b[38;5;124m\"\u001b[39m\u001b[38;5;124mraise\u001b[39m\u001b[38;5;124m\"\u001b[39m,\n\u001b[0;32m   5206\u001b[0m ) \u001b[38;5;241m-\u001b[39m\u001b[38;5;241m>\u001b[39m DataFrame \u001b[38;5;241m|\u001b[39m \u001b[38;5;28;01mNone\u001b[39;00m:\n\u001b[0;32m   5207\u001b[0m \u001b[38;5;250m    \u001b[39m\u001b[38;5;124;03m\"\"\"\u001b[39;00m\n\u001b[0;32m   5208\u001b[0m \u001b[38;5;124;03m    Drop specified labels from rows or columns.\u001b[39;00m\n\u001b[0;32m   5209\u001b[0m \n\u001b[1;32m   (...)\u001b[0m\n\u001b[0;32m   5342\u001b[0m \u001b[38;5;124;03m            weight  1.0     0.8\u001b[39;00m\n\u001b[0;32m   5343\u001b[0m \u001b[38;5;124;03m    \"\"\"\u001b[39;00m\n\u001b[1;32m-> 5344\u001b[0m     \u001b[38;5;28;01mreturn\u001b[39;00m \u001b[38;5;28msuper\u001b[39m()\u001b[38;5;241m.\u001b[39mdrop(\n\u001b[0;32m   5345\u001b[0m         labels\u001b[38;5;241m=\u001b[39mlabels,\n\u001b[0;32m   5346\u001b[0m         axis\u001b[38;5;241m=\u001b[39maxis,\n\u001b[0;32m   5347\u001b[0m         index\u001b[38;5;241m=\u001b[39mindex,\n\u001b[0;32m   5348\u001b[0m         columns\u001b[38;5;241m=\u001b[39mcolumns,\n\u001b[0;32m   5349\u001b[0m         level\u001b[38;5;241m=\u001b[39mlevel,\n\u001b[0;32m   5350\u001b[0m         inplace\u001b[38;5;241m=\u001b[39minplace,\n\u001b[0;32m   5351\u001b[0m         errors\u001b[38;5;241m=\u001b[39merrors,\n\u001b[0;32m   5352\u001b[0m     )\n",
      "File \u001b[1;32mC:\\Program Files\\Anaconda3\\Lib\\site-packages\\pandas\\core\\generic.py:4711\u001b[0m, in \u001b[0;36mNDFrame.drop\u001b[1;34m(self, labels, axis, index, columns, level, inplace, errors)\u001b[0m\n\u001b[0;32m   4709\u001b[0m \u001b[38;5;28;01mfor\u001b[39;00m axis, labels \u001b[38;5;129;01min\u001b[39;00m axes\u001b[38;5;241m.\u001b[39mitems():\n\u001b[0;32m   4710\u001b[0m     \u001b[38;5;28;01mif\u001b[39;00m labels \u001b[38;5;129;01mis\u001b[39;00m \u001b[38;5;129;01mnot\u001b[39;00m \u001b[38;5;28;01mNone\u001b[39;00m:\n\u001b[1;32m-> 4711\u001b[0m         obj \u001b[38;5;241m=\u001b[39m obj\u001b[38;5;241m.\u001b[39m_drop_axis(labels, axis, level\u001b[38;5;241m=\u001b[39mlevel, errors\u001b[38;5;241m=\u001b[39merrors)\n\u001b[0;32m   4713\u001b[0m \u001b[38;5;28;01mif\u001b[39;00m inplace:\n\u001b[0;32m   4714\u001b[0m     \u001b[38;5;28mself\u001b[39m\u001b[38;5;241m.\u001b[39m_update_inplace(obj)\n",
      "File \u001b[1;32mC:\\Program Files\\Anaconda3\\Lib\\site-packages\\pandas\\core\\generic.py:4753\u001b[0m, in \u001b[0;36mNDFrame._drop_axis\u001b[1;34m(self, labels, axis, level, errors, only_slice)\u001b[0m\n\u001b[0;32m   4751\u001b[0m         new_axis \u001b[38;5;241m=\u001b[39m axis\u001b[38;5;241m.\u001b[39mdrop(labels, level\u001b[38;5;241m=\u001b[39mlevel, errors\u001b[38;5;241m=\u001b[39merrors)\n\u001b[0;32m   4752\u001b[0m     \u001b[38;5;28;01melse\u001b[39;00m:\n\u001b[1;32m-> 4753\u001b[0m         new_axis \u001b[38;5;241m=\u001b[39m axis\u001b[38;5;241m.\u001b[39mdrop(labels, errors\u001b[38;5;241m=\u001b[39merrors)\n\u001b[0;32m   4754\u001b[0m     indexer \u001b[38;5;241m=\u001b[39m axis\u001b[38;5;241m.\u001b[39mget_indexer(new_axis)\n\u001b[0;32m   4756\u001b[0m \u001b[38;5;66;03m# Case for non-unique axis\u001b[39;00m\n\u001b[0;32m   4757\u001b[0m \u001b[38;5;28;01melse\u001b[39;00m:\n",
      "File \u001b[1;32mC:\\Program Files\\Anaconda3\\Lib\\site-packages\\pandas\\core\\indexes\\base.py:7000\u001b[0m, in \u001b[0;36mIndex.drop\u001b[1;34m(self, labels, errors)\u001b[0m\n\u001b[0;32m   6998\u001b[0m \u001b[38;5;28;01mif\u001b[39;00m mask\u001b[38;5;241m.\u001b[39many():\n\u001b[0;32m   6999\u001b[0m     \u001b[38;5;28;01mif\u001b[39;00m errors \u001b[38;5;241m!=\u001b[39m \u001b[38;5;124m\"\u001b[39m\u001b[38;5;124mignore\u001b[39m\u001b[38;5;124m\"\u001b[39m:\n\u001b[1;32m-> 7000\u001b[0m         \u001b[38;5;28;01mraise\u001b[39;00m \u001b[38;5;167;01mKeyError\u001b[39;00m(\u001b[38;5;124mf\u001b[39m\u001b[38;5;124m\"\u001b[39m\u001b[38;5;132;01m{\u001b[39;00mlabels[mask]\u001b[38;5;241m.\u001b[39mtolist()\u001b[38;5;132;01m}\u001b[39;00m\u001b[38;5;124m not found in axis\u001b[39m\u001b[38;5;124m\"\u001b[39m)\n\u001b[0;32m   7001\u001b[0m     indexer \u001b[38;5;241m=\u001b[39m indexer[\u001b[38;5;241m~\u001b[39mmask]\n\u001b[0;32m   7002\u001b[0m \u001b[38;5;28;01mreturn\u001b[39;00m \u001b[38;5;28mself\u001b[39m\u001b[38;5;241m.\u001b[39mdelete(indexer)\n",
      "\u001b[1;31mKeyError\u001b[0m: \"['Expires'] not found in axis\""
     ]
    }
   ],
   "source": [
    "df.drop('Expires', axis=1, inplace=True)  #As it's not required, txn fails if the card expired"
   ]
  },
  {
   "cell_type": "code",
   "execution_count": 56,
   "id": "0820d94e-2be5-4a17-8a4a-58aed92e7c60",
   "metadata": {},
   "outputs": [
    {
     "data": {
      "text/plain": [
       "User                             int64\n",
       "Card                             int64\n",
       "Year                           float64\n",
       "Month                          float64\n",
       "Day                            float64\n",
       "Time                            object\n",
       "Amount                         float64\n",
       "Use Chip                        object\n",
       "Merchant Name                  float64\n",
       "Merchant City                   object\n",
       "Merchant State                  object\n",
       "Zip                            float64\n",
       "MCC                            float64\n",
       "Errors?                         object\n",
       "Is Fraud?                       object\n",
       "Card Brand                      object\n",
       "Card Type                       object\n",
       "Card Number                      int64\n",
       "CVV                              int64\n",
       "Has Chip                        object\n",
       "Cards Issued                     int64\n",
       "Credit Limit                     int64\n",
       "Acct Open Date                  object\n",
       "Year PIN last Changed            int64\n",
       "Card on Dark Web                object\n",
       "Person                          object\n",
       "Current Age                      int64\n",
       "Retirement Age                   int64\n",
       "Birth Year                       int64\n",
       "Birth Month                      int64\n",
       "Gender                          object\n",
       "user_Address                    object\n",
       "user_City                       object\n",
       "user_State                      object\n",
       "user_Zipcode                     int64\n",
       "user_Latitude                  float64\n",
       "user_Longitude                 float64\n",
       "Per Capita Income - Zipcode      int64\n",
       "Yearly Income - Person           int64\n",
       "Total Debt                       int64\n",
       "FICO Score                       int64\n",
       "Num Credit Cards                 int64\n",
       "dtype: object"
      ]
     },
     "execution_count": 56,
     "metadata": {},
     "output_type": "execute_result"
    }
   ],
   "source": [
    "df.dtypes"
   ]
  },
  {
   "cell_type": "code",
   "execution_count": 57,
   "id": "02f7784b-3686-4857-9a7a-aad475d2577f",
   "metadata": {},
   "outputs": [
    {
     "data": {
      "text/plain": [
       "User                              67\n",
       "Card                               8\n",
       "Year                              23\n",
       "Month                             12\n",
       "Day                               31\n",
       "Time                            1440\n",
       "Amount                         32070\n",
       "Use Chip                           3\n",
       "Merchant Name                   9615\n",
       "Merchant City                   4609\n",
       "Merchant State                   120\n",
       "Zip                             8374\n",
       "MCC                              109\n",
       "Errors?                            1\n",
       "Is Fraud?                          2\n",
       "Card Brand                         4\n",
       "Card Type                          3\n",
       "Card Number                      191\n",
       "CVV                              178\n",
       "Has Chip                           2\n",
       "Cards Issued                       3\n",
       "Credit Limit                     183\n",
       "Acct Open Date                   109\n",
       "Year PIN last Changed             15\n",
       "Card on Dark Web                   1\n",
       "Person                            67\n",
       "Current Age                       37\n",
       "Retirement Age                    19\n",
       "Birth Year                        38\n",
       "Birth Month                       12\n",
       "Gender                             2\n",
       "user_Address                      67\n",
       "user_City                         64\n",
       "user_State                        31\n",
       "user_Zipcode                      67\n",
       "user_Latitude                     64\n",
       "user_Longitude                    64\n",
       "Per Capita Income - Zipcode       67\n",
       "Yearly Income - Person            67\n",
       "Total Debt                        65\n",
       "FICO Score                        61\n",
       "Num Credit Cards                   8\n",
       "dtype: int64"
      ]
     },
     "execution_count": 57,
     "metadata": {},
     "output_type": "execute_result"
    }
   ],
   "source": [
    "df.nunique()"
   ]
  },
  {
   "cell_type": "markdown",
   "id": "d5d119f8-bf45-438f-a445-dcae6565a8f5",
   "metadata": {},
   "source": [
    "## Analysing the object datatype colums"
   ]
  },
  {
   "cell_type": "code",
   "execution_count": 58,
   "id": "8b080d1a-9195-4183-bb71-fe987cf745ba",
   "metadata": {},
   "outputs": [
    {
     "data": {
      "text/plain": [
       "0      06:21\n",
       "1      06:42\n",
       "2      06:22\n",
       "3      17:45\n",
       "4      06:23\n",
       "       ...  \n",
       "101    06:24\n",
       "102    06:26\n",
       "103    08:24\n",
       "104    06:10\n",
       "105    06:44\n",
       "Name: Time, Length: 100, dtype: object"
      ]
     },
     "execution_count": 58,
     "metadata": {},
     "output_type": "execute_result"
    }
   ],
   "source": [
    "df['Time'].head(100)"
   ]
  },
  {
   "cell_type": "code",
   "execution_count": 25,
   "id": "21e0a1ff-05c4-4e69-a666-9195b80365a9",
   "metadata": {},
   "outputs": [
    {
     "data": {
      "text/plain": [
       "1440"
      ]
     },
     "execution_count": 25,
     "metadata": {},
     "output_type": "execute_result"
    }
   ],
   "source": [
    "df['Time'].nunique()"
   ]
  },
  {
   "cell_type": "code",
   "execution_count": 26,
   "id": "099243b1-5c7c-421b-9eca-0d64ffa38e55",
   "metadata": {},
   "outputs": [
    {
     "data": {
      "text/plain": [
       "array(['Swipe Transaction', 'Online Transaction', 'Chip Transaction'],\n",
       "      dtype=object)"
      ]
     },
     "execution_count": 26,
     "metadata": {},
     "output_type": "execute_result"
    }
   ],
   "source": [
    "df['Use Chip'].unique()"
   ]
  },
  {
   "cell_type": "code",
   "execution_count": 28,
   "id": "024ec7a8-8f43-4afc-872e-2ba772eddd21",
   "metadata": {},
   "outputs": [
    {
     "data": {
      "text/plain": [
       "array(['La Verne', 'Monterey Park', 'ONLINE', ..., 'Berthoud',\n",
       "       'Manzanita', 'Newberg'], dtype=object)"
      ]
     },
     "execution_count": 28,
     "metadata": {},
     "output_type": "execute_result"
    }
   ],
   "source": [
    "df['Merchant City'].unique()"
   ]
  },
  {
   "cell_type": "code",
   "execution_count": 29,
   "id": "767f4dff-ddf8-4e88-beb9-01e05cb31629",
   "metadata": {},
   "outputs": [
    {
     "data": {
      "text/plain": [
       "4618"
      ]
     },
     "execution_count": 29,
     "metadata": {},
     "output_type": "execute_result"
    }
   ],
   "source": [
    "df['Merchant City'].nunique()"
   ]
  },
  {
   "cell_type": "code",
   "execution_count": 30,
   "id": "7e69ca52-a9e1-41e9-8119-2c144c42f8b7",
   "metadata": {},
   "outputs": [
    {
     "data": {
      "text/plain": [
       "array(['No Error', 'Technical Glitch', 'Insufficient Balance', 'Bad PIN',\n",
       "       'Bad PIN,Insufficient Balance', 'Bad Expiration',\n",
       "       'Bad PIN,Technical Glitch', 'Bad Card Number', 'Bad CVV',\n",
       "       'Bad Zipcode', 'Insufficient Balance,Technical Glitch',\n",
       "       'Bad Card Number,Insufficient Balance', 'Bad Card Number,Bad CVV',\n",
       "       'Bad CVV,Insufficient Balance', 'Bad Card Number,Bad Expiration',\n",
       "       'Bad Expiration,Bad CVV', 'Bad Expiration,Insufficient Balance',\n",
       "       'Bad Expiration,Technical Glitch',\n",
       "       'Bad Card Number,Bad Expiration,Technical Glitch',\n",
       "       'Bad CVV,Technical Glitch'], dtype=object)"
      ]
     },
     "execution_count": 30,
     "metadata": {},
     "output_type": "execute_result"
    }
   ],
   "source": [
    "df['Errors?'].unique()"
   ]
  },
  {
   "cell_type": "code",
   "execution_count": 31,
   "id": "99a1eb2c-6027-45a7-a1db-8277b979dfb1",
   "metadata": {},
   "outputs": [
    {
     "data": {
      "text/plain": [
       "array(['No', 'Yes'], dtype=object)"
      ]
     },
     "execution_count": 31,
     "metadata": {},
     "output_type": "execute_result"
    }
   ],
   "source": [
    "df['Is Fraud?'].unique()"
   ]
  },
  {
   "cell_type": "code",
   "execution_count": 32,
   "id": "8d472f3a-179a-4cc5-8a2c-ef6b576a80e4",
   "metadata": {},
   "outputs": [
    {
     "data": {
      "text/plain": [
       "array(['Visa', 'Mastercard', 'Discover', 'Amex'], dtype=object)"
      ]
     },
     "execution_count": 32,
     "metadata": {},
     "output_type": "execute_result"
    }
   ],
   "source": [
    "df['Card Brand'].unique()"
   ]
  },
  {
   "cell_type": "code",
   "execution_count": 33,
   "id": "3f1140f7-0877-4220-af3f-24a927414831",
   "metadata": {},
   "outputs": [
    {
     "data": {
      "text/plain": [
       "array(['Debit', 'Credit', 'Debit (Prepaid)'], dtype=object)"
      ]
     },
     "execution_count": 33,
     "metadata": {},
     "output_type": "execute_result"
    }
   ],
   "source": [
    "df['Card Type'].unique()"
   ]
  },
  {
   "cell_type": "code",
   "execution_count": 35,
   "id": "9bf2c797-eb83-4011-ad05-89fa9c8f191e",
   "metadata": {},
   "outputs": [
    {
     "data": {
      "text/plain": [
       "array(['YES', 'NO'], dtype=object)"
      ]
     },
     "execution_count": 35,
     "metadata": {},
     "output_type": "execute_result"
    }
   ],
   "source": [
    "df['Has Chip'].unique()"
   ]
  },
  {
   "cell_type": "code",
   "execution_count": 36,
   "id": "8b0dd1f6-37b5-420c-8300-4e30234d436e",
   "metadata": {},
   "outputs": [
    {
     "data": {
      "text/plain": [
       "array(['09/2002', '04/2014', '07/2003', '01/2003', '09/2008', '09/2003',\n",
       "       '02/2011', '06/2010', '07/2006', '10/2009', '03/2002', '03/2019',\n",
       "       '09/2009', '01/2011', '02/2007', '11/2010', '12/1999', '01/2002',\n",
       "       '09/2007', '11/2005', '06/2005', '09/2010', '10/2014', '01/2020',\n",
       "       '11/2009', '09/2017', '01/2005', '01/2012', '05/2012', '07/2009',\n",
       "       '02/2020', '01/2007', '12/2008', '12/2012', '08/2007', '08/2016',\n",
       "       '06/2002', '02/2002', '01/2008', '08/2013', '08/2003', '09/2016',\n",
       "       '02/2004', '12/2009', '01/2006', '02/2000', '01/1998', '03/2009',\n",
       "       '07/2002', '11/2014', '09/2001', '05/2005', '03/2012', '10/2006',\n",
       "       '08/2008', '10/2010', '05/2010', '10/2016', '08/2005', '06/2008',\n",
       "       '12/2003', '03/2006', '03/2005', '12/2006', '12/2017', '01/2014',\n",
       "       '03/2001', '02/2009', '06/2007', '04/2008', '11/2003', '07/2012',\n",
       "       '12/2016', '02/1999', '10/2013', '08/2011', '03/2013', '12/2010',\n",
       "       '08/2014', '05/2004', '04/2005', '04/2010', '11/2012', '02/2003',\n",
       "       '07/2004', '05/2011', '07/2001', '03/2000', '11/2001', '11/2007',\n",
       "       '05/2016', '02/2010', '12/2007', '04/2002', '02/2013', '01/2019',\n",
       "       '10/2008', '08/2002', '07/2007', '12/2015', '10/2011', '04/2009',\n",
       "       '04/2018', '11/2006', '06/2013', '09/2011', '03/2008', '02/2012',\n",
       "       '05/1999'], dtype=object)"
      ]
     },
     "execution_count": 36,
     "metadata": {},
     "output_type": "execute_result"
    }
   ],
   "source": [
    "df['Acct Open Date'].unique()"
   ]
  },
  {
   "cell_type": "code",
   "execution_count": 37,
   "id": "c2cfa9c8-ee15-49cf-815c-2cbce12b4e46",
   "metadata": {},
   "outputs": [
    {
     "data": {
      "text/plain": [
       "109"
      ]
     },
     "execution_count": 37,
     "metadata": {},
     "output_type": "execute_result"
    }
   ],
   "source": [
    "df['Acct Open Date'].nunique()"
   ]
  },
  {
   "cell_type": "code",
   "execution_count": 39,
   "id": "6888a43a-4cd5-4eec-a6db-d236338bc659",
   "metadata": {},
   "outputs": [
    {
     "data": {
      "text/plain": [
       "1"
      ]
     },
     "execution_count": 39,
     "metadata": {},
     "output_type": "execute_result"
    }
   ],
   "source": [
    "df['Card on Dark Web'].nunique()"
   ]
  },
  {
   "cell_type": "code",
   "execution_count": 40,
   "id": "1b92cd38-ee10-48e0-877b-31ab86bf3854",
   "metadata": {},
   "outputs": [
    {
     "data": {
      "text/plain": [
       "array(['Hazel Robinson', 'Sasha Sadr', 'Saanvi Lee', 'Everlee Clark',\n",
       "       'Kyle Peterson', 'Aldo Walker', 'Katalina Lewis', 'Ryland Howard',\n",
       "       'Kenya Cooper', 'Sawyer Butler', 'Antonio Ryan', 'Elliot Edwards',\n",
       "       'Romina Garcia', 'Keanu Chen', 'Poppy Flores', 'Riya Cruz',\n",
       "       'Saul Walker', 'Anahi Rogers', 'Cayden Rivera',\n",
       "       'Cristiano Jenkins', 'Blaine Murphy', 'Grayson Diaz',\n",
       "       'Yadiel Miller', 'Roland King', 'Cole Xi', 'Jade Green',\n",
       "       'Amaya Stewart', 'Grant Gray', 'Oliver Reed', 'Aminah Collins',\n",
       "       'Ulises Neufelder', 'Tristan Hughes', 'Madalynn Gutierrez',\n",
       "       'Rosa Faraday', 'Brynn Allen', 'Aden Adams', 'Haylee Baker',\n",
       "       'Nehemiah Turner', 'Simon Adams', 'Sunny King', 'Harper Jackson',\n",
       "       'Thomas Burns', 'Titan Flores', 'Leslie Myers', 'Joaquin Parker',\n",
       "       'Butch Brooks', 'Kiera Allen', 'Lylah Peres', 'Ty Jackson',\n",
       "       'Bodhi Nguyen', 'Chaya Howard', 'Kyleigh Rogers', 'Mikaela Martin',\n",
       "       'Luella Perry', 'Lainey Gutierrez', 'Marvin Anwar',\n",
       "       'Holden Taylor', 'Aiyana Abe', 'Milani Merkel', 'Princess Cooper',\n",
       "       'Wyatt Davis', 'Nathalie Faraday', 'Erik Chen', 'Gatlin Morris',\n",
       "       'Eloise Bennett', 'Leighton Wood', 'Layne Butler'], dtype=object)"
      ]
     },
     "execution_count": 40,
     "metadata": {},
     "output_type": "execute_result"
    }
   ],
   "source": [
    "df['Person'].unique()"
   ]
  },
  {
   "cell_type": "code",
   "execution_count": 41,
   "id": "04dad28d-b661-4596-9e0e-a481dc67b649",
   "metadata": {},
   "outputs": [
    {
     "data": {
      "text/plain": [
       "array(['Female', 'Male'], dtype=object)"
      ]
     },
     "execution_count": 41,
     "metadata": {},
     "output_type": "execute_result"
    }
   ],
   "source": [
    "df['Gender'].unique()"
   ]
  },
  {
   "cell_type": "code",
   "execution_count": 42,
   "id": "600ea3ee-9f72-467e-9210-7e370b130d32",
   "metadata": {},
   "outputs": [
    {
     "data": {
      "text/plain": [
       "array(['462 Rose Lane', '3606 Federal Boulevard', '766 Third Drive',\n",
       "       '3 Madison Street', '9620 Valley Stream Drive', '58 Birch Lane',\n",
       "       '5695 Fifth Street', '1941 Ninth Street', '11 Spruce Avenue',\n",
       "       '887 Grant Street', '888 Fifth Lane', '8677 Littlewood Lane',\n",
       "       '829 Fourth Boulevard', '74786 Jefferson Drive', '781 East Street',\n",
       "       '40 Washington Drive', '3994 Hillside Drive', '172 Birch Street',\n",
       "       '8145 Spruce Boulevard', '153 Tenth Lane', '2473 Lake Avenue',\n",
       "       '970 Essex Drive', '9186 Washington Avenue', '5073 Wessex Avenue',\n",
       "       '195 Eighth Boulevard', '801 Mill Boulevard', '6914 Wessex Avenue',\n",
       "       '776 Norfolk Boulevard', '2015 Bayview Avenue',\n",
       "       '108 Washington Street', '660 Seventh Drive',\n",
       "       '7505 Tenth Boulevard', '4930 Birch Drive', '93 Plum Lane',\n",
       "       '837 Lincoln Avenue', '7467 Spruce Drive', '6323 Sussex Boulevard',\n",
       "       '8738 Fourth Street', '9344 Mill Drive', '299 11th Street',\n",
       "       '5492 Maple Drive', '829 Birch Boulevard',\n",
       "       '41011 Seventh Boulevard', '613 Little Creek Lane',\n",
       "       '1942 Rose Avenue', '5101 Birch Lane', '7 11th Drive',\n",
       "       '2468 Spruce Drive', '8001 Essex Boulevard', '708 George Street',\n",
       "       '28 Hillside Boulevard', '446 Birch Drive', '578 Maple Avenue',\n",
       "       '14 Valley Drive', '2475 Little Creek Boulevard',\n",
       "       '9604 Catherine Drive', '349 First Drive', '7914 Essex Boulevard',\n",
       "       '524 Ocean Drive', '2079 Maple Drive', '295 Valley Drive',\n",
       "       '2883 Ocean View Boulevard', '5125 Elm Drive', '4098 Park Drive',\n",
       "       '892 Spruce Street', '9977 Oak Avenue', '79 South Boulevard'],\n",
       "      dtype=object)"
      ]
     },
     "execution_count": 42,
     "metadata": {},
     "output_type": "execute_result"
    }
   ],
   "source": [
    "df['user_Address'].unique()"
   ]
  },
  {
   "cell_type": "code",
   "execution_count": 43,
   "id": "f89e1178-e5a3-47a6-abc2-b0cc49032746",
   "metadata": {},
   "outputs": [
    {
     "data": {
      "text/plain": [
       "64"
      ]
     },
     "execution_count": 43,
     "metadata": {},
     "output_type": "execute_result"
    }
   ],
   "source": [
    "df['user_City'].nunique()"
   ]
  },
  {
   "cell_type": "code",
   "execution_count": 44,
   "id": "62a6a588-c3f7-4cad-b171-9beb50662ae0",
   "metadata": {},
   "outputs": [
    {
     "data": {
      "text/plain": [
       "31"
      ]
     },
     "execution_count": 44,
     "metadata": {},
     "output_type": "execute_result"
    }
   ],
   "source": [
    "df['user_State'].nunique()"
   ]
  },
  {
   "cell_type": "markdown",
   "id": "9302512c-a044-4e78-9661-3e89280e16b3",
   "metadata": {},
   "source": [
    "## Filtering the data with No errors, as if there an error it measn transaction is not successful"
   ]
  },
  {
   "cell_type": "code",
   "execution_count": 54,
   "id": "f5c559b5-6d7d-418b-a899-d600870ef478",
   "metadata": {},
   "outputs": [],
   "source": [
    "df = df[df['Errors?'] == 'No Error']"
   ]
  },
  {
   "cell_type": "markdown",
   "id": "32624d2f-2eb9-4bba-abc1-bed04afe88f6",
   "metadata": {},
   "source": [
    "## Creating new Time column with categorical values like Morning, afternoon etc "
   ]
  },
  {
   "cell_type": "code",
   "execution_count": 63,
   "id": "b60a2685-6e20-4304-a7ed-5ff997919d40",
   "metadata": {},
   "outputs": [
    {
     "name": "stderr",
     "output_type": "stream",
     "text": [
      "C:\\Users\\shivani.padal\\AppData\\Local\\Temp\\ipykernel_9040\\3943141377.py:1: SettingWithCopyWarning: \n",
      "A value is trying to be set on a copy of a slice from a DataFrame.\n",
      "Try using .loc[row_indexer,col_indexer] = value instead\n",
      "\n",
      "See the caveats in the documentation: https://pandas.pydata.org/pandas-docs/stable/user_guide/indexing.html#returning-a-view-versus-a-copy\n",
      "  df['Time'] = pd.to_datetime(df['Time'], format='%H:%M').dt.time\n"
     ]
    }
   ],
   "source": [
    "df['Time'] = pd.to_datetime(df['Time'], format='%H:%M').dt.time"
   ]
  },
  {
   "cell_type": "code",
   "execution_count": 66,
   "id": "78610164-bb9c-418d-95c6-f91373fe9023",
   "metadata": {},
   "outputs": [
    {
     "data": {
      "text/plain": [
       "0         06:21:00\n",
       "1         06:42:00\n",
       "2         06:22:00\n",
       "3         17:45:00\n",
       "4         06:23:00\n",
       "            ...   \n",
       "899995    14:56:00\n",
       "899996    15:27:00\n",
       "899997    16:24:00\n",
       "899998    07:36:00\n",
       "899999    14:40:00\n",
       "Name: Time, Length: 885545, dtype: object"
      ]
     },
     "execution_count": 66,
     "metadata": {},
     "output_type": "execute_result"
    }
   ],
   "source": [
    "df['Time']"
   ]
  },
  {
   "cell_type": "code",
   "execution_count": 70,
   "id": "ef7a193e-1f04-4fcf-8287-2cdeecf3913d",
   "metadata": {},
   "outputs": [
    {
     "name": "stderr",
     "output_type": "stream",
     "text": [
      "C:\\Users\\shivani.padal\\AppData\\Local\\Temp\\ipykernel_9040\\3482768847.py:15: SettingWithCopyWarning: \n",
      "A value is trying to be set on a copy of a slice from a DataFrame.\n",
      "Try using .loc[row_indexer,col_indexer] = value instead\n",
      "\n",
      "See the caveats in the documentation: https://pandas.pydata.org/pandas-docs/stable/user_guide/indexing.html#returning-a-view-versus-a-copy\n",
      "  df['Time_new'] = df['Time'].apply(categorize_time)\n"
     ]
    }
   ],
   "source": [
    "# Function to categorize time\n",
    "def categorize_time(time):\n",
    "    if time >= pd.to_datetime('05:00', format='%H:%M').time() and time < pd.to_datetime('08:00', format='%H:%M').time():\n",
    "        return 'Early morning'\n",
    "    elif time >= pd.to_datetime('08:00', format='%H:%M').time() and time < pd.to_datetime('12:00', format='%H:%M').time():\n",
    "        return 'Morning'\n",
    "    elif time >= pd.to_datetime('12:00', format='%H:%M').time() and time < pd.to_datetime('17:00', format='%H:%M').time():\n",
    "        return 'Afternoon'\n",
    "    elif time >= pd.to_datetime('17:00', format='%H:%M').time() and time < pd.to_datetime('20:00', format='%H:%M').time():\n",
    "        return 'Evening'\n",
    "    else:\n",
    "        return 'Night'\n",
    "\n",
    "# Apply the function to create 'Time_new' column\n",
    "df['Time_new'] = df['Time'].apply(categorize_time)"
   ]
  },
  {
   "cell_type": "code",
   "execution_count": 71,
   "id": "41992720-9a56-4cc4-a73d-45a3f553241b",
   "metadata": {},
   "outputs": [
    {
     "name": "stderr",
     "output_type": "stream",
     "text": [
      "C:\\Users\\shivani.padal\\AppData\\Local\\Temp\\ipykernel_9040\\3061556031.py:2: SettingWithCopyWarning: \n",
      "A value is trying to be set on a copy of a slice from a DataFrame\n",
      "\n",
      "See the caveats in the documentation: https://pandas.pydata.org/pandas-docs/stable/user_guide/indexing.html#returning-a-view-versus-a-copy\n",
      "  df.drop('user_Address', axis=1, inplace=True)\n"
     ]
    }
   ],
   "source": [
    "## Remove user_Address, We need only like state, country \n",
    "df.drop('user_Address', axis=1, inplace=True)"
   ]
  },
  {
   "cell_type": "code",
   "execution_count": 75,
   "id": "cbf37396-5cb1-4aad-94f0-eb111b8f0e9f",
   "metadata": {},
   "outputs": [
    {
     "name": "stderr",
     "output_type": "stream",
     "text": [
      "C:\\Users\\shivani.padal\\AppData\\Local\\Temp\\ipykernel_9040\\1667112387.py:1: SettingWithCopyWarning: \n",
      "A value is trying to be set on a copy of a slice from a DataFrame\n",
      "\n",
      "See the caveats in the documentation: https://pandas.pydata.org/pandas-docs/stable/user_guide/indexing.html#returning-a-view-versus-a-copy\n",
      "  df.drop('Card on Dark Web', axis=1, inplace=True)\n"
     ]
    }
   ],
   "source": [
    "df.drop('Card on Dark Web', axis=1, inplace=True)"
   ]
  },
  {
   "cell_type": "code",
   "execution_count": 76,
   "id": "304ddfe9-10f4-4e4b-807b-6a1685fb7ab7",
   "metadata": {},
   "outputs": [
    {
     "data": {
      "text/plain": [
       "User                             int64\n",
       "Card                             int64\n",
       "Year                           float64\n",
       "Month                          float64\n",
       "Day                            float64\n",
       "Time                            object\n",
       "Amount                         float64\n",
       "Use Chip                        object\n",
       "Merchant Name                  float64\n",
       "Merchant City                   object\n",
       "Merchant State                  object\n",
       "Zip                            float64\n",
       "MCC                            float64\n",
       "Errors?                         object\n",
       "Is Fraud?                       object\n",
       "Card Brand                      object\n",
       "Card Type                       object\n",
       "Card Number                      int64\n",
       "CVV                              int64\n",
       "Has Chip                        object\n",
       "Cards Issued                     int64\n",
       "Credit Limit                     int64\n",
       "Acct Open Date                  object\n",
       "Year PIN last Changed            int64\n",
       "Person                          object\n",
       "Current Age                      int64\n",
       "Retirement Age                   int64\n",
       "Birth Year                       int64\n",
       "Birth Month                      int64\n",
       "Gender                          object\n",
       "user_City                       object\n",
       "user_State                      object\n",
       "user_Zipcode                     int64\n",
       "user_Latitude                  float64\n",
       "user_Longitude                 float64\n",
       "Per Capita Income - Zipcode      int64\n",
       "Yearly Income - Person           int64\n",
       "Total Debt                       int64\n",
       "FICO Score                       int64\n",
       "Num Credit Cards                 int64\n",
       "Time_new                        object\n",
       "dtype: object"
      ]
     },
     "execution_count": 76,
     "metadata": {},
     "output_type": "execute_result"
    }
   ],
   "source": [
    "df.dtypes"
   ]
  },
  {
   "cell_type": "code",
   "execution_count": 77,
   "id": "0f0b85d4-d913-4176-bbb9-e6cd1c1ec328",
   "metadata": {},
   "outputs": [
    {
     "data": {
      "text/plain": [
       "array(['No', 'Yes'], dtype=object)"
      ]
     },
     "execution_count": 77,
     "metadata": {},
     "output_type": "execute_result"
    }
   ],
   "source": [
    "df['Is Fraud?'].unique()"
   ]
  },
  {
   "cell_type": "code",
   "execution_count": 78,
   "id": "a7939c25-f5a6-416d-96b0-05bce1d4181a",
   "metadata": {},
   "outputs": [
    {
     "name": "stderr",
     "output_type": "stream",
     "text": [
      "C:\\Users\\shivani.padal\\AppData\\Local\\Temp\\ipykernel_9040\\1891147260.py:1: SettingWithCopyWarning: \n",
      "A value is trying to be set on a copy of a slice from a DataFrame.\n",
      "Try using .loc[row_indexer,col_indexer] = value instead\n",
      "\n",
      "See the caveats in the documentation: https://pandas.pydata.org/pandas-docs/stable/user_guide/indexing.html#returning-a-view-versus-a-copy\n",
      "  df['Is Fraud?'] = df['Is Fraud?'].replace({'Yes': 1, 'No': 0}).astype(int)\n"
     ]
    }
   ],
   "source": [
    "df['Is Fraud?'] = df['Is Fraud?'].replace({'Yes': 1, 'No': 0}).astype(int)"
   ]
  },
  {
   "cell_type": "code",
   "execution_count": 80,
   "id": "b9087130-2f8c-4c39-bce8-ed8c8f12e238",
   "metadata": {},
   "outputs": [
    {
     "data": {
      "text/html": [
       "<div>\n",
       "<style scoped>\n",
       "    .dataframe tbody tr th:only-of-type {\n",
       "        vertical-align: middle;\n",
       "    }\n",
       "\n",
       "    .dataframe tbody tr th {\n",
       "        vertical-align: top;\n",
       "    }\n",
       "\n",
       "    .dataframe thead th {\n",
       "        text-align: right;\n",
       "    }\n",
       "</style>\n",
       "<table border=\"1\" class=\"dataframe\">\n",
       "  <thead>\n",
       "    <tr style=\"text-align: right;\">\n",
       "      <th></th>\n",
       "      <th>Time</th>\n",
       "      <th>Use Chip</th>\n",
       "      <th>Merchant City</th>\n",
       "      <th>Merchant State</th>\n",
       "      <th>Errors?</th>\n",
       "      <th>Card Brand</th>\n",
       "      <th>Card Type</th>\n",
       "      <th>Has Chip</th>\n",
       "      <th>Acct Open Date</th>\n",
       "      <th>Person</th>\n",
       "      <th>Gender</th>\n",
       "      <th>user_City</th>\n",
       "      <th>user_State</th>\n",
       "      <th>Time_new</th>\n",
       "    </tr>\n",
       "  </thead>\n",
       "  <tbody>\n",
       "    <tr>\n",
       "      <th>0</th>\n",
       "      <td>06:21:00</td>\n",
       "      <td>Swipe Transaction</td>\n",
       "      <td>La Verne</td>\n",
       "      <td>CA</td>\n",
       "      <td>No Error</td>\n",
       "      <td>Visa</td>\n",
       "      <td>Debit</td>\n",
       "      <td>YES</td>\n",
       "      <td>09/2002</td>\n",
       "      <td>Hazel Robinson</td>\n",
       "      <td>Female</td>\n",
       "      <td>La Verne</td>\n",
       "      <td>CA</td>\n",
       "      <td>Early morning</td>\n",
       "    </tr>\n",
       "    <tr>\n",
       "      <th>1</th>\n",
       "      <td>06:42:00</td>\n",
       "      <td>Swipe Transaction</td>\n",
       "      <td>Monterey Park</td>\n",
       "      <td>CA</td>\n",
       "      <td>No Error</td>\n",
       "      <td>Visa</td>\n",
       "      <td>Debit</td>\n",
       "      <td>YES</td>\n",
       "      <td>09/2002</td>\n",
       "      <td>Hazel Robinson</td>\n",
       "      <td>Female</td>\n",
       "      <td>La Verne</td>\n",
       "      <td>CA</td>\n",
       "      <td>Early morning</td>\n",
       "    </tr>\n",
       "    <tr>\n",
       "      <th>2</th>\n",
       "      <td>06:22:00</td>\n",
       "      <td>Swipe Transaction</td>\n",
       "      <td>Monterey Park</td>\n",
       "      <td>CA</td>\n",
       "      <td>No Error</td>\n",
       "      <td>Visa</td>\n",
       "      <td>Debit</td>\n",
       "      <td>YES</td>\n",
       "      <td>09/2002</td>\n",
       "      <td>Hazel Robinson</td>\n",
       "      <td>Female</td>\n",
       "      <td>La Verne</td>\n",
       "      <td>CA</td>\n",
       "      <td>Early morning</td>\n",
       "    </tr>\n",
       "    <tr>\n",
       "      <th>3</th>\n",
       "      <td>17:45:00</td>\n",
       "      <td>Swipe Transaction</td>\n",
       "      <td>Monterey Park</td>\n",
       "      <td>CA</td>\n",
       "      <td>No Error</td>\n",
       "      <td>Visa</td>\n",
       "      <td>Debit</td>\n",
       "      <td>YES</td>\n",
       "      <td>09/2002</td>\n",
       "      <td>Hazel Robinson</td>\n",
       "      <td>Female</td>\n",
       "      <td>La Verne</td>\n",
       "      <td>CA</td>\n",
       "      <td>Evening</td>\n",
       "    </tr>\n",
       "    <tr>\n",
       "      <th>4</th>\n",
       "      <td>06:23:00</td>\n",
       "      <td>Swipe Transaction</td>\n",
       "      <td>La Verne</td>\n",
       "      <td>CA</td>\n",
       "      <td>No Error</td>\n",
       "      <td>Visa</td>\n",
       "      <td>Debit</td>\n",
       "      <td>YES</td>\n",
       "      <td>09/2002</td>\n",
       "      <td>Hazel Robinson</td>\n",
       "      <td>Female</td>\n",
       "      <td>La Verne</td>\n",
       "      <td>CA</td>\n",
       "      <td>Early morning</td>\n",
       "    </tr>\n",
       "    <tr>\n",
       "      <th>...</th>\n",
       "      <td>...</td>\n",
       "      <td>...</td>\n",
       "      <td>...</td>\n",
       "      <td>...</td>\n",
       "      <td>...</td>\n",
       "      <td>...</td>\n",
       "      <td>...</td>\n",
       "      <td>...</td>\n",
       "      <td>...</td>\n",
       "      <td>...</td>\n",
       "      <td>...</td>\n",
       "      <td>...</td>\n",
       "      <td>...</td>\n",
       "      <td>...</td>\n",
       "    </tr>\n",
       "    <tr>\n",
       "      <th>899995</th>\n",
       "      <td>14:56:00</td>\n",
       "      <td>Online Transaction</td>\n",
       "      <td>ONLINE</td>\n",
       "      <td>online</td>\n",
       "      <td>No Error</td>\n",
       "      <td>Visa</td>\n",
       "      <td>Debit</td>\n",
       "      <td>YES</td>\n",
       "      <td>05/1999</td>\n",
       "      <td>Layne Butler</td>\n",
       "      <td>Male</td>\n",
       "      <td>Gonzales</td>\n",
       "      <td>TX</td>\n",
       "      <td>Afternoon</td>\n",
       "    </tr>\n",
       "    <tr>\n",
       "      <th>899996</th>\n",
       "      <td>15:27:00</td>\n",
       "      <td>Swipe Transaction</td>\n",
       "      <td>Gonzales</td>\n",
       "      <td>TX</td>\n",
       "      <td>No Error</td>\n",
       "      <td>Visa</td>\n",
       "      <td>Debit</td>\n",
       "      <td>YES</td>\n",
       "      <td>05/1999</td>\n",
       "      <td>Layne Butler</td>\n",
       "      <td>Male</td>\n",
       "      <td>Gonzales</td>\n",
       "      <td>TX</td>\n",
       "      <td>Afternoon</td>\n",
       "    </tr>\n",
       "    <tr>\n",
       "      <th>899997</th>\n",
       "      <td>16:24:00</td>\n",
       "      <td>Swipe Transaction</td>\n",
       "      <td>Gonzales</td>\n",
       "      <td>TX</td>\n",
       "      <td>No Error</td>\n",
       "      <td>Visa</td>\n",
       "      <td>Debit</td>\n",
       "      <td>YES</td>\n",
       "      <td>05/1999</td>\n",
       "      <td>Layne Butler</td>\n",
       "      <td>Male</td>\n",
       "      <td>Gonzales</td>\n",
       "      <td>TX</td>\n",
       "      <td>Afternoon</td>\n",
       "    </tr>\n",
       "    <tr>\n",
       "      <th>899998</th>\n",
       "      <td>07:36:00</td>\n",
       "      <td>Online Transaction</td>\n",
       "      <td>ONLINE</td>\n",
       "      <td>online</td>\n",
       "      <td>No Error</td>\n",
       "      <td>Visa</td>\n",
       "      <td>Debit</td>\n",
       "      <td>YES</td>\n",
       "      <td>05/1999</td>\n",
       "      <td>Layne Butler</td>\n",
       "      <td>Male</td>\n",
       "      <td>Gonzales</td>\n",
       "      <td>TX</td>\n",
       "      <td>Early morning</td>\n",
       "    </tr>\n",
       "    <tr>\n",
       "      <th>899999</th>\n",
       "      <td>14:40:00</td>\n",
       "      <td>Online Transaction</td>\n",
       "      <td>ONLINE</td>\n",
       "      <td>online</td>\n",
       "      <td>No Error</td>\n",
       "      <td>Visa</td>\n",
       "      <td>Debit</td>\n",
       "      <td>YES</td>\n",
       "      <td>05/1999</td>\n",
       "      <td>Layne Butler</td>\n",
       "      <td>Male</td>\n",
       "      <td>Gonzales</td>\n",
       "      <td>TX</td>\n",
       "      <td>Afternoon</td>\n",
       "    </tr>\n",
       "  </tbody>\n",
       "</table>\n",
       "<p>885545 rows × 14 columns</p>\n",
       "</div>"
      ],
      "text/plain": [
       "            Time            Use Chip  Merchant City Merchant State   Errors?  \\\n",
       "0       06:21:00   Swipe Transaction       La Verne             CA  No Error   \n",
       "1       06:42:00   Swipe Transaction  Monterey Park             CA  No Error   \n",
       "2       06:22:00   Swipe Transaction  Monterey Park             CA  No Error   \n",
       "3       17:45:00   Swipe Transaction  Monterey Park             CA  No Error   \n",
       "4       06:23:00   Swipe Transaction       La Verne             CA  No Error   \n",
       "...          ...                 ...            ...            ...       ...   \n",
       "899995  14:56:00  Online Transaction         ONLINE         online  No Error   \n",
       "899996  15:27:00   Swipe Transaction       Gonzales             TX  No Error   \n",
       "899997  16:24:00   Swipe Transaction       Gonzales             TX  No Error   \n",
       "899998  07:36:00  Online Transaction         ONLINE         online  No Error   \n",
       "899999  14:40:00  Online Transaction         ONLINE         online  No Error   \n",
       "\n",
       "       Card Brand Card Type Has Chip Acct Open Date          Person  Gender  \\\n",
       "0            Visa     Debit      YES        09/2002  Hazel Robinson  Female   \n",
       "1            Visa     Debit      YES        09/2002  Hazel Robinson  Female   \n",
       "2            Visa     Debit      YES        09/2002  Hazel Robinson  Female   \n",
       "3            Visa     Debit      YES        09/2002  Hazel Robinson  Female   \n",
       "4            Visa     Debit      YES        09/2002  Hazel Robinson  Female   \n",
       "...           ...       ...      ...            ...             ...     ...   \n",
       "899995       Visa     Debit      YES        05/1999    Layne Butler    Male   \n",
       "899996       Visa     Debit      YES        05/1999    Layne Butler    Male   \n",
       "899997       Visa     Debit      YES        05/1999    Layne Butler    Male   \n",
       "899998       Visa     Debit      YES        05/1999    Layne Butler    Male   \n",
       "899999       Visa     Debit      YES        05/1999    Layne Butler    Male   \n",
       "\n",
       "       user_City user_State       Time_new  \n",
       "0       La Verne         CA  Early morning  \n",
       "1       La Verne         CA  Early morning  \n",
       "2       La Verne         CA  Early morning  \n",
       "3       La Verne         CA        Evening  \n",
       "4       La Verne         CA  Early morning  \n",
       "...          ...        ...            ...  \n",
       "899995  Gonzales         TX      Afternoon  \n",
       "899996  Gonzales         TX      Afternoon  \n",
       "899997  Gonzales         TX      Afternoon  \n",
       "899998  Gonzales         TX  Early morning  \n",
       "899999  Gonzales         TX      Afternoon  \n",
       "\n",
       "[885545 rows x 14 columns]"
      ]
     },
     "execution_count": 80,
     "metadata": {},
     "output_type": "execute_result"
    }
   ],
   "source": [
    "df.select_dtypes(include=['object'])"
   ]
  },
  {
   "cell_type": "code",
   "execution_count": 85,
   "id": "bd72597e-bcae-4069-ae9e-f58ecd0e7367",
   "metadata": {},
   "outputs": [
    {
     "data": {
      "text/html": [
       "<div>\n",
       "<style scoped>\n",
       "    .dataframe tbody tr th:only-of-type {\n",
       "        vertical-align: middle;\n",
       "    }\n",
       "\n",
       "    .dataframe tbody tr th {\n",
       "        vertical-align: top;\n",
       "    }\n",
       "\n",
       "    .dataframe thead th {\n",
       "        text-align: right;\n",
       "    }\n",
       "</style>\n",
       "<table border=\"1\" class=\"dataframe\">\n",
       "  <thead>\n",
       "    <tr style=\"text-align: right;\">\n",
       "      <th></th>\n",
       "      <th>User</th>\n",
       "      <th>Card</th>\n",
       "      <th>Year</th>\n",
       "      <th>Month</th>\n",
       "      <th>Day</th>\n",
       "      <th>Amount</th>\n",
       "      <th>Use Chip</th>\n",
       "      <th>Merchant Name</th>\n",
       "      <th>Merchant City</th>\n",
       "      <th>Merchant State</th>\n",
       "      <th>...</th>\n",
       "      <th>user_State</th>\n",
       "      <th>user_Zipcode</th>\n",
       "      <th>user_Latitude</th>\n",
       "      <th>user_Longitude</th>\n",
       "      <th>Per Capita Income - Zipcode</th>\n",
       "      <th>Yearly Income - Person</th>\n",
       "      <th>Total Debt</th>\n",
       "      <th>FICO Score</th>\n",
       "      <th>Num Credit Cards</th>\n",
       "      <th>Time_new</th>\n",
       "    </tr>\n",
       "  </thead>\n",
       "  <tbody>\n",
       "    <tr>\n",
       "      <th>0</th>\n",
       "      <td>0</td>\n",
       "      <td>0</td>\n",
       "      <td>2002.0</td>\n",
       "      <td>9.0</td>\n",
       "      <td>1.0</td>\n",
       "      <td>134.09</td>\n",
       "      <td>Swipe Transaction</td>\n",
       "      <td>3.527213e+18</td>\n",
       "      <td>La Verne</td>\n",
       "      <td>CA</td>\n",
       "      <td>...</td>\n",
       "      <td>CA</td>\n",
       "      <td>91750</td>\n",
       "      <td>34.15</td>\n",
       "      <td>-117.76</td>\n",
       "      <td>29278</td>\n",
       "      <td>59696</td>\n",
       "      <td>127613</td>\n",
       "      <td>787</td>\n",
       "      <td>5</td>\n",
       "      <td>Early morning</td>\n",
       "    </tr>\n",
       "    <tr>\n",
       "      <th>1</th>\n",
       "      <td>0</td>\n",
       "      <td>0</td>\n",
       "      <td>2002.0</td>\n",
       "      <td>9.0</td>\n",
       "      <td>1.0</td>\n",
       "      <td>38.48</td>\n",
       "      <td>Swipe Transaction</td>\n",
       "      <td>-7.276121e+17</td>\n",
       "      <td>Monterey Park</td>\n",
       "      <td>CA</td>\n",
       "      <td>...</td>\n",
       "      <td>CA</td>\n",
       "      <td>91750</td>\n",
       "      <td>34.15</td>\n",
       "      <td>-117.76</td>\n",
       "      <td>29278</td>\n",
       "      <td>59696</td>\n",
       "      <td>127613</td>\n",
       "      <td>787</td>\n",
       "      <td>5</td>\n",
       "      <td>Early morning</td>\n",
       "    </tr>\n",
       "    <tr>\n",
       "      <th>2</th>\n",
       "      <td>0</td>\n",
       "      <td>0</td>\n",
       "      <td>2002.0</td>\n",
       "      <td>9.0</td>\n",
       "      <td>2.0</td>\n",
       "      <td>120.34</td>\n",
       "      <td>Swipe Transaction</td>\n",
       "      <td>-7.276121e+17</td>\n",
       "      <td>Monterey Park</td>\n",
       "      <td>CA</td>\n",
       "      <td>...</td>\n",
       "      <td>CA</td>\n",
       "      <td>91750</td>\n",
       "      <td>34.15</td>\n",
       "      <td>-117.76</td>\n",
       "      <td>29278</td>\n",
       "      <td>59696</td>\n",
       "      <td>127613</td>\n",
       "      <td>787</td>\n",
       "      <td>5</td>\n",
       "      <td>Early morning</td>\n",
       "    </tr>\n",
       "    <tr>\n",
       "      <th>3</th>\n",
       "      <td>0</td>\n",
       "      <td>0</td>\n",
       "      <td>2002.0</td>\n",
       "      <td>9.0</td>\n",
       "      <td>2.0</td>\n",
       "      <td>128.95</td>\n",
       "      <td>Swipe Transaction</td>\n",
       "      <td>3.414527e+18</td>\n",
       "      <td>Monterey Park</td>\n",
       "      <td>CA</td>\n",
       "      <td>...</td>\n",
       "      <td>CA</td>\n",
       "      <td>91750</td>\n",
       "      <td>34.15</td>\n",
       "      <td>-117.76</td>\n",
       "      <td>29278</td>\n",
       "      <td>59696</td>\n",
       "      <td>127613</td>\n",
       "      <td>787</td>\n",
       "      <td>5</td>\n",
       "      <td>Evening</td>\n",
       "    </tr>\n",
       "    <tr>\n",
       "      <th>4</th>\n",
       "      <td>0</td>\n",
       "      <td>0</td>\n",
       "      <td>2002.0</td>\n",
       "      <td>9.0</td>\n",
       "      <td>3.0</td>\n",
       "      <td>104.71</td>\n",
       "      <td>Swipe Transaction</td>\n",
       "      <td>5.817218e+18</td>\n",
       "      <td>La Verne</td>\n",
       "      <td>CA</td>\n",
       "      <td>...</td>\n",
       "      <td>CA</td>\n",
       "      <td>91750</td>\n",
       "      <td>34.15</td>\n",
       "      <td>-117.76</td>\n",
       "      <td>29278</td>\n",
       "      <td>59696</td>\n",
       "      <td>127613</td>\n",
       "      <td>787</td>\n",
       "      <td>5</td>\n",
       "      <td>Early morning</td>\n",
       "    </tr>\n",
       "  </tbody>\n",
       "</table>\n",
       "<p>5 rows × 37 columns</p>\n",
       "</div>"
      ],
      "text/plain": [
       "   User  Card    Year  Month  Day  Amount           Use Chip  Merchant Name  \\\n",
       "0     0     0  2002.0    9.0  1.0  134.09  Swipe Transaction   3.527213e+18   \n",
       "1     0     0  2002.0    9.0  1.0   38.48  Swipe Transaction  -7.276121e+17   \n",
       "2     0     0  2002.0    9.0  2.0  120.34  Swipe Transaction  -7.276121e+17   \n",
       "3     0     0  2002.0    9.0  2.0  128.95  Swipe Transaction   3.414527e+18   \n",
       "4     0     0  2002.0    9.0  3.0  104.71  Swipe Transaction   5.817218e+18   \n",
       "\n",
       "   Merchant City Merchant State  ...  user_State  user_Zipcode  user_Latitude  \\\n",
       "0       La Verne             CA  ...          CA         91750          34.15   \n",
       "1  Monterey Park             CA  ...          CA         91750          34.15   \n",
       "2  Monterey Park             CA  ...          CA         91750          34.15   \n",
       "3  Monterey Park             CA  ...          CA         91750          34.15   \n",
       "4       La Verne             CA  ...          CA         91750          34.15   \n",
       "\n",
       "  user_Longitude Per Capita Income - Zipcode  Yearly Income - Person  \\\n",
       "0        -117.76                       29278                   59696   \n",
       "1        -117.76                       29278                   59696   \n",
       "2        -117.76                       29278                   59696   \n",
       "3        -117.76                       29278                   59696   \n",
       "4        -117.76                       29278                   59696   \n",
       "\n",
       "   Total Debt FICO Score  Num Credit Cards       Time_new  \n",
       "0      127613        787                 5  Early morning  \n",
       "1      127613        787                 5  Early morning  \n",
       "2      127613        787                 5  Early morning  \n",
       "3      127613        787                 5        Evening  \n",
       "4      127613        787                 5  Early morning  \n",
       "\n",
       "[5 rows x 37 columns]"
      ]
     },
     "execution_count": 85,
     "metadata": {},
     "output_type": "execute_result"
    }
   ],
   "source": [
    "# col_to_remove = ['Time', 'Errors?','Acct Open Date', 'Person' ]\n",
    "\n",
    "# df = df.drop(columns=col_to_remove, axis=1)\n",
    "\n",
    "df.head()"
   ]
  },
  {
   "cell_type": "code",
   "execution_count": 86,
   "id": "cacf9714-0efe-4137-86ec-ccdb5341b777",
   "metadata": {},
   "outputs": [],
   "source": [
    "from sklearn.preprocessing import LabelEncoder\n",
    "\n",
    "# Select columns with object data type\n",
    "object_columns = df.select_dtypes(include=['object']).columns\n",
    "\n",
    "# Initialize the LabelEncoder\n",
    "label_encoder = LabelEncoder()\n",
    "\n",
    "# Apply LabelEncoder to each object-type column\n",
    "for col in object_columns:\n",
    "    df[col] = label_encoder.fit_transform(df[col])"
   ]
  },
  {
   "cell_type": "code",
   "execution_count": 88,
   "id": "58867c81-3d82-414d-a8c8-aa0de3ebb8bc",
   "metadata": {},
   "outputs": [
    {
     "data": {
      "image/png": "[encoded data removed]",
      "text/plain": [
       "<Figure size 1000x800 with 2 Axes>"
      ]
     },
     "metadata": {},
     "output_type": "display_data"
    }
   ],
   "source": [
    "import seaborn as sns\n",
    "import matplotlib.pyplot as plt\n",
    "\n",
    "# Calculate the correlation matrix\n",
    "correlation_matrix = df.corr()\n",
    "\n",
    "# Plot the heatmap\n",
    "plt.figure(figsize=(10, 8))\n",
    "sns.heatmap(correlation_matrix, annot=True, fmt=\".2f\", cmap='coolwarm', cbar=True)\n",
    "plt.title('Correlation Matrix')\n",
    "plt.show()\n",
    "\n"
   ]
  },
  {
   "cell_type": "code",
   "execution_count": 90,
   "id": "613a10d8-bd77-49a1-80f8-5863ab48639f",
   "metadata": {},
   "outputs": [
    {
     "name": "stdout",
     "output_type": "stream",
     "text": [
      "Columns Use Chip and Year have a correlation coefficient above 0.5.\n",
      "Columns Birth Year and Current Age have a correlation coefficient above 0.5.\n",
      "Columns Merchant State and user_State have a correlation coefficient above 0.5.\n",
      "Columns Zip and user_Longitude have a correlation coefficient above 0.5.\n",
      "Columns Card and Num Credit Cards have a correlation coefficient above 0.5.\n",
      "Columns Credit Limit and Yearly Income - Person have a correlation coefficient above 0.5.\n",
      "Columns Per Capita Income - Zipcode and Yearly Income - Person have a correlation coefficient above 0.5.\n",
      "Columns Per Capita Income - Zipcode and Total Debt have a correlation coefficient above 0.5.\n",
      "Columns Merchant City and user_City have a correlation coefficient above 0.5.\n",
      "Columns Total Debt and Yearly Income - Person have a correlation coefficient above 0.5.\n",
      "Columns Credit Limit and Per Capita Income - Zipcode have a correlation coefficient above 0.5.\n",
      "Columns user_Longitude and user_Zipcode have a correlation coefficient above 0.5.\n",
      "Columns Zip and user_Zipcode have a correlation coefficient above 0.5.\n"
     ]
    }
   ],
   "source": [
    "import numpy as np\n",
    "\n",
    "# Calculate the correlation matrix\n",
    "correlation_matrix = df.corr()\n",
    "\n",
    "# Set a threshold for considering correlations\n",
    "threshold = 0.5\n",
    "\n",
    "# Find pairs of columns with correlation above the threshold\n",
    "high_corr_pairs = np.where(np.abs(correlation_matrix) > threshold)\n",
    "\n",
    "# Extract the column pairs, excluding self-correlations\n",
    "high_corr_pairs = [(correlation_matrix.index[x], correlation_matrix.columns[y]) \n",
    "                   for x, y in zip(*high_corr_pairs) if x != y]\n",
    "\n",
    "# Remove duplicate pairs (e.g., (A, B) and (B, A))\n",
    "unique_high_corr_pairs = set(tuple(sorted(pair)) for pair in high_corr_pairs)\n",
    "\n",
    "# Display the highly correlated pairs\n",
    "for pair in unique_high_corr_pairs:\n",
    "    print(f\"Columns {pair[0]} and {pair[1]} have a correlation coefficient above {threshold}.\")\n"
   ]
  }
 ],
 "metadata": {
  "kernelspec": {
   "display_name": "Python 3 (ipykernel)",
   "language": "python",
   "name": "python3"
  },
  "language_info": {
   "codemirror_mode": {
    "name": "ipython",
    "version": 3
   },
   "file_extension": ".py",
   "mimetype": "text/x-python",
   "name": "python",
   "nbconvert_exporter": "python",
   "pygments_lexer": "ipython3",
   "version": "3.11.7"
  }
 },
 "nbformat": 4,
 "nbformat_minor": 5
}
